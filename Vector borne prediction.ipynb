{
 "cells": [
  {
   "cell_type": "code",
   "execution_count": 22,
   "id": "8640fbf5",
   "metadata": {},
   "outputs": [],
   "source": [
    "import pandas as pd\n",
    "import numpy as np\n",
    "import matplotlib.pyplot as plt\n",
    "import seaborn as sns"
   ]
  },
  {
   "cell_type": "code",
   "execution_count": 62,
   "id": "d1d578da",
   "metadata": {},
   "outputs": [],
   "source": [
    "raw_train = pd.read_csv(\"train.csv\").reset_index(drop=True)"
   ]
  },
  {
   "cell_type": "code",
   "execution_count": 63,
   "id": "8ad8f27a",
   "metadata": {},
   "outputs": [
    {
     "data": {
      "text/html": [
       "<div>\n",
       "<style scoped>\n",
       "    .dataframe tbody tr th:only-of-type {\n",
       "        vertical-align: middle;\n",
       "    }\n",
       "\n",
       "    .dataframe tbody tr th {\n",
       "        vertical-align: top;\n",
       "    }\n",
       "\n",
       "    .dataframe thead th {\n",
       "        text-align: right;\n",
       "    }\n",
       "</style>\n",
       "<table border=\"1\" class=\"dataframe\">\n",
       "  <thead>\n",
       "    <tr style=\"text-align: right;\">\n",
       "      <th></th>\n",
       "      <th>id</th>\n",
       "      <th>sudden_fever</th>\n",
       "      <th>headache</th>\n",
       "      <th>mouth_bleed</th>\n",
       "      <th>nose_bleed</th>\n",
       "      <th>muscle_pain</th>\n",
       "      <th>joint_pain</th>\n",
       "      <th>vomiting</th>\n",
       "      <th>rash</th>\n",
       "      <th>diarrhea</th>\n",
       "      <th>...</th>\n",
       "      <th>breathing_restriction</th>\n",
       "      <th>toe_inflammation</th>\n",
       "      <th>finger_inflammation</th>\n",
       "      <th>lips_irritation</th>\n",
       "      <th>itchiness</th>\n",
       "      <th>ulcers</th>\n",
       "      <th>toenail_loss</th>\n",
       "      <th>speech_problem</th>\n",
       "      <th>bullseye_rash</th>\n",
       "      <th>prognosis</th>\n",
       "    </tr>\n",
       "  </thead>\n",
       "  <tbody>\n",
       "    <tr>\n",
       "      <th>0</th>\n",
       "      <td>0</td>\n",
       "      <td>1.0</td>\n",
       "      <td>1.0</td>\n",
       "      <td>0.0</td>\n",
       "      <td>1.0</td>\n",
       "      <td>1.0</td>\n",
       "      <td>1.0</td>\n",
       "      <td>1.0</td>\n",
       "      <td>0.0</td>\n",
       "      <td>1.0</td>\n",
       "      <td>...</td>\n",
       "      <td>0.0</td>\n",
       "      <td>0.0</td>\n",
       "      <td>0.0</td>\n",
       "      <td>0.0</td>\n",
       "      <td>0.0</td>\n",
       "      <td>0.0</td>\n",
       "      <td>0.0</td>\n",
       "      <td>0.0</td>\n",
       "      <td>0.0</td>\n",
       "      <td>Lyme_disease</td>\n",
       "    </tr>\n",
       "    <tr>\n",
       "      <th>1</th>\n",
       "      <td>1</td>\n",
       "      <td>0.0</td>\n",
       "      <td>0.0</td>\n",
       "      <td>0.0</td>\n",
       "      <td>0.0</td>\n",
       "      <td>0.0</td>\n",
       "      <td>0.0</td>\n",
       "      <td>1.0</td>\n",
       "      <td>0.0</td>\n",
       "      <td>1.0</td>\n",
       "      <td>...</td>\n",
       "      <td>0.0</td>\n",
       "      <td>0.0</td>\n",
       "      <td>0.0</td>\n",
       "      <td>0.0</td>\n",
       "      <td>0.0</td>\n",
       "      <td>0.0</td>\n",
       "      <td>0.0</td>\n",
       "      <td>0.0</td>\n",
       "      <td>0.0</td>\n",
       "      <td>Tungiasis</td>\n",
       "    </tr>\n",
       "    <tr>\n",
       "      <th>2</th>\n",
       "      <td>2</td>\n",
       "      <td>0.0</td>\n",
       "      <td>1.0</td>\n",
       "      <td>1.0</td>\n",
       "      <td>1.0</td>\n",
       "      <td>0.0</td>\n",
       "      <td>1.0</td>\n",
       "      <td>1.0</td>\n",
       "      <td>1.0</td>\n",
       "      <td>1.0</td>\n",
       "      <td>...</td>\n",
       "      <td>1.0</td>\n",
       "      <td>1.0</td>\n",
       "      <td>1.0</td>\n",
       "      <td>1.0</td>\n",
       "      <td>1.0</td>\n",
       "      <td>0.0</td>\n",
       "      <td>1.0</td>\n",
       "      <td>1.0</td>\n",
       "      <td>1.0</td>\n",
       "      <td>Lyme_disease</td>\n",
       "    </tr>\n",
       "    <tr>\n",
       "      <th>3</th>\n",
       "      <td>3</td>\n",
       "      <td>0.0</td>\n",
       "      <td>0.0</td>\n",
       "      <td>1.0</td>\n",
       "      <td>1.0</td>\n",
       "      <td>1.0</td>\n",
       "      <td>1.0</td>\n",
       "      <td>0.0</td>\n",
       "      <td>1.0</td>\n",
       "      <td>0.0</td>\n",
       "      <td>...</td>\n",
       "      <td>0.0</td>\n",
       "      <td>0.0</td>\n",
       "      <td>0.0</td>\n",
       "      <td>0.0</td>\n",
       "      <td>0.0</td>\n",
       "      <td>0.0</td>\n",
       "      <td>0.0</td>\n",
       "      <td>0.0</td>\n",
       "      <td>0.0</td>\n",
       "      <td>Zika</td>\n",
       "    </tr>\n",
       "    <tr>\n",
       "      <th>4</th>\n",
       "      <td>4</td>\n",
       "      <td>0.0</td>\n",
       "      <td>0.0</td>\n",
       "      <td>0.0</td>\n",
       "      <td>0.0</td>\n",
       "      <td>0.0</td>\n",
       "      <td>0.0</td>\n",
       "      <td>0.0</td>\n",
       "      <td>0.0</td>\n",
       "      <td>1.0</td>\n",
       "      <td>...</td>\n",
       "      <td>0.0</td>\n",
       "      <td>1.0</td>\n",
       "      <td>0.0</td>\n",
       "      <td>0.0</td>\n",
       "      <td>1.0</td>\n",
       "      <td>1.0</td>\n",
       "      <td>1.0</td>\n",
       "      <td>0.0</td>\n",
       "      <td>0.0</td>\n",
       "      <td>Rift_Valley_fever</td>\n",
       "    </tr>\n",
       "  </tbody>\n",
       "</table>\n",
       "<p>5 rows × 66 columns</p>\n",
       "</div>"
      ],
      "text/plain": [
       "   id  sudden_fever  headache  mouth_bleed  nose_bleed  muscle_pain  \\\n",
       "0   0           1.0       1.0          0.0         1.0          1.0   \n",
       "1   1           0.0       0.0          0.0         0.0          0.0   \n",
       "2   2           0.0       1.0          1.0         1.0          0.0   \n",
       "3   3           0.0       0.0          1.0         1.0          1.0   \n",
       "4   4           0.0       0.0          0.0         0.0          0.0   \n",
       "\n",
       "   joint_pain  vomiting  rash  diarrhea  ...  breathing_restriction  \\\n",
       "0         1.0       1.0   0.0       1.0  ...                    0.0   \n",
       "1         0.0       1.0   0.0       1.0  ...                    0.0   \n",
       "2         1.0       1.0   1.0       1.0  ...                    1.0   \n",
       "3         1.0       0.0   1.0       0.0  ...                    0.0   \n",
       "4         0.0       0.0   0.0       1.0  ...                    0.0   \n",
       "\n",
       "   toe_inflammation  finger_inflammation  lips_irritation  itchiness  ulcers  \\\n",
       "0               0.0                  0.0              0.0        0.0     0.0   \n",
       "1               0.0                  0.0              0.0        0.0     0.0   \n",
       "2               1.0                  1.0              1.0        1.0     0.0   \n",
       "3               0.0                  0.0              0.0        0.0     0.0   \n",
       "4               1.0                  0.0              0.0        1.0     1.0   \n",
       "\n",
       "   toenail_loss  speech_problem  bullseye_rash          prognosis  \n",
       "0           0.0             0.0            0.0       Lyme_disease  \n",
       "1           0.0             0.0            0.0          Tungiasis  \n",
       "2           1.0             1.0            1.0       Lyme_disease  \n",
       "3           0.0             0.0            0.0               Zika  \n",
       "4           1.0             0.0            0.0  Rift_Valley_fever  \n",
       "\n",
       "[5 rows x 66 columns]"
      ]
     },
     "execution_count": 63,
     "metadata": {},
     "output_type": "execute_result"
    }
   ],
   "source": [
    "raw_train.head()"
   ]
  },
  {
   "cell_type": "code",
   "execution_count": 64,
   "id": "2b8f4117",
   "metadata": {},
   "outputs": [
    {
     "name": "stdout",
     "output_type": "stream",
     "text": [
      "<class 'pandas.core.frame.DataFrame'>\n",
      "RangeIndex: 707 entries, 0 to 706\n",
      "Data columns (total 66 columns):\n",
      " #   Column                 Non-Null Count  Dtype  \n",
      "---  ------                 --------------  -----  \n",
      " 0   id                     707 non-null    int64  \n",
      " 1   sudden_fever           707 non-null    float64\n",
      " 2   headache               707 non-null    float64\n",
      " 3   mouth_bleed            707 non-null    float64\n",
      " 4   nose_bleed             707 non-null    float64\n",
      " 5   muscle_pain            707 non-null    float64\n",
      " 6   joint_pain             707 non-null    float64\n",
      " 7   vomiting               707 non-null    float64\n",
      " 8   rash                   707 non-null    float64\n",
      " 9   diarrhea               707 non-null    float64\n",
      " 10  hypotension            707 non-null    float64\n",
      " 11  pleural_effusion       707 non-null    float64\n",
      " 12  ascites                707 non-null    float64\n",
      " 13  gastro_bleeding        707 non-null    float64\n",
      " 14  swelling               707 non-null    float64\n",
      " 15  nausea                 707 non-null    float64\n",
      " 16  chills                 707 non-null    float64\n",
      " 17  myalgia                707 non-null    float64\n",
      " 18  digestion_trouble      707 non-null    float64\n",
      " 19  fatigue                707 non-null    float64\n",
      " 20  skin_lesions           707 non-null    float64\n",
      " 21  stomach_pain           707 non-null    float64\n",
      " 22  orbital_pain           707 non-null    float64\n",
      " 23  neck_pain              707 non-null    float64\n",
      " 24  weakness               707 non-null    float64\n",
      " 25  back_pain              707 non-null    float64\n",
      " 26  weight_loss            707 non-null    float64\n",
      " 27  gum_bleed              707 non-null    float64\n",
      " 28  jaundice               707 non-null    float64\n",
      " 29  coma                   707 non-null    float64\n",
      " 30  diziness               707 non-null    float64\n",
      " 31  inflammation           707 non-null    float64\n",
      " 32  red_eyes               707 non-null    float64\n",
      " 33  loss_of_appetite       707 non-null    float64\n",
      " 34  urination_loss         707 non-null    float64\n",
      " 35  slow_heart_rate        707 non-null    float64\n",
      " 36  abdominal_pain         707 non-null    float64\n",
      " 37  light_sensitivity      707 non-null    float64\n",
      " 38  yellow_skin            707 non-null    float64\n",
      " 39  yellow_eyes            707 non-null    float64\n",
      " 40  facial_distortion      707 non-null    float64\n",
      " 41  microcephaly           707 non-null    float64\n",
      " 42  rigor                  707 non-null    float64\n",
      " 43  bitter_tongue          707 non-null    float64\n",
      " 44  convulsion             707 non-null    float64\n",
      " 45  anemia                 707 non-null    float64\n",
      " 46  cocacola_urine         707 non-null    float64\n",
      " 47  hypoglycemia           707 non-null    float64\n",
      " 48  prostraction           707 non-null    float64\n",
      " 49  hyperpyrexia           707 non-null    float64\n",
      " 50  stiff_neck             707 non-null    float64\n",
      " 51  irritability           707 non-null    float64\n",
      " 52  confusion              707 non-null    float64\n",
      " 53  tremor                 707 non-null    float64\n",
      " 54  paralysis              707 non-null    float64\n",
      " 55  lymph_swells           707 non-null    float64\n",
      " 56  breathing_restriction  707 non-null    float64\n",
      " 57  toe_inflammation       707 non-null    float64\n",
      " 58  finger_inflammation    707 non-null    float64\n",
      " 59  lips_irritation        707 non-null    float64\n",
      " 60  itchiness              707 non-null    float64\n",
      " 61  ulcers                 707 non-null    float64\n",
      " 62  toenail_loss           707 non-null    float64\n",
      " 63  speech_problem         707 non-null    float64\n",
      " 64  bullseye_rash          707 non-null    float64\n",
      " 65  prognosis              707 non-null    object \n",
      "dtypes: float64(64), int64(1), object(1)\n",
      "memory usage: 364.7+ KB\n"
     ]
    }
   ],
   "source": [
    "raw_train.info()"
   ]
  },
  {
   "cell_type": "code",
   "execution_count": 65,
   "id": "ce3c66ba",
   "metadata": {},
   "outputs": [
    {
     "data": {
      "text/plain": [
       "array(['Lyme_disease', 'Tungiasis', 'Zika', 'Rift_Valley_fever',\n",
       "       'West_Nile_fever', 'Malaria', 'Chikungunya', 'Plague', 'Dengue',\n",
       "       'Yellow_Fever', 'Japanese_encephalitis'], dtype=object)"
      ]
     },
     "execution_count": 65,
     "metadata": {},
     "output_type": "execute_result"
    }
   ],
   "source": [
    "raw_train['prognosis'].unique()"
   ]
  },
  {
   "cell_type": "code",
   "execution_count": 66,
   "id": "6b732528",
   "metadata": {},
   "outputs": [
    {
     "data": {
      "text/plain": [
       "West_Nile_fever          85\n",
       "Japanese_encephalitis    81\n",
       "Tungiasis                70\n",
       "Rift_Valley_fever        70\n",
       "Chikungunya              66\n",
       "Dengue                   63\n",
       "Yellow_Fever             61\n",
       "Zika                     58\n",
       "Plague                   53\n",
       "Lyme_disease             52\n",
       "Malaria                  48\n",
       "Name: prognosis, dtype: int64"
      ]
     },
     "execution_count": 66,
     "metadata": {},
     "output_type": "execute_result"
    }
   ],
   "source": [
    "raw_train['prognosis'].value_counts()"
   ]
  },
  {
   "cell_type": "code",
   "execution_count": 67,
   "id": "26480fae",
   "metadata": {},
   "outputs": [],
   "source": [
    "raw_test = pd.read_csv('test.csv')"
   ]
  },
  {
   "cell_type": "code",
   "execution_count": 68,
   "id": "4c4f9bf4",
   "metadata": {},
   "outputs": [
    {
     "name": "stdout",
     "output_type": "stream",
     "text": [
      "<class 'pandas.core.frame.DataFrame'>\n",
      "RangeIndex: 303 entries, 0 to 302\n",
      "Data columns (total 65 columns):\n",
      " #   Column                 Non-Null Count  Dtype  \n",
      "---  ------                 --------------  -----  \n",
      " 0   id                     303 non-null    int64  \n",
      " 1   sudden_fever           303 non-null    float64\n",
      " 2   headache               303 non-null    float64\n",
      " 3   mouth_bleed            303 non-null    float64\n",
      " 4   nose_bleed             303 non-null    float64\n",
      " 5   muscle_pain            303 non-null    float64\n",
      " 6   joint_pain             303 non-null    float64\n",
      " 7   vomiting               303 non-null    float64\n",
      " 8   rash                   303 non-null    float64\n",
      " 9   diarrhea               303 non-null    float64\n",
      " 10  hypotension            303 non-null    float64\n",
      " 11  pleural_effusion       303 non-null    float64\n",
      " 12  ascites                303 non-null    float64\n",
      " 13  gastro_bleeding        303 non-null    float64\n",
      " 14  swelling               303 non-null    float64\n",
      " 15  nausea                 303 non-null    float64\n",
      " 16  chills                 303 non-null    float64\n",
      " 17  myalgia                303 non-null    float64\n",
      " 18  digestion_trouble      303 non-null    float64\n",
      " 19  fatigue                303 non-null    float64\n",
      " 20  skin_lesions           303 non-null    float64\n",
      " 21  stomach_pain           303 non-null    float64\n",
      " 22  orbital_pain           303 non-null    float64\n",
      " 23  neck_pain              303 non-null    float64\n",
      " 24  weakness               303 non-null    float64\n",
      " 25  back_pain              303 non-null    float64\n",
      " 26  weight_loss            303 non-null    float64\n",
      " 27  gum_bleed              303 non-null    float64\n",
      " 28  jaundice               303 non-null    float64\n",
      " 29  coma                   303 non-null    float64\n",
      " 30  diziness               303 non-null    float64\n",
      " 31  inflammation           303 non-null    float64\n",
      " 32  red_eyes               303 non-null    float64\n",
      " 33  loss_of_appetite       303 non-null    float64\n",
      " 34  urination_loss         303 non-null    float64\n",
      " 35  slow_heart_rate        303 non-null    float64\n",
      " 36  abdominal_pain         303 non-null    float64\n",
      " 37  light_sensitivity      303 non-null    float64\n",
      " 38  yellow_skin            303 non-null    float64\n",
      " 39  yellow_eyes            303 non-null    float64\n",
      " 40  facial_distortion      303 non-null    float64\n",
      " 41  microcephaly           303 non-null    float64\n",
      " 42  rigor                  303 non-null    float64\n",
      " 43  bitter_tongue          303 non-null    float64\n",
      " 44  convulsion             303 non-null    float64\n",
      " 45  anemia                 303 non-null    float64\n",
      " 46  cocacola_urine         303 non-null    float64\n",
      " 47  hypoglycemia           303 non-null    float64\n",
      " 48  prostraction           303 non-null    float64\n",
      " 49  hyperpyrexia           303 non-null    float64\n",
      " 50  stiff_neck             303 non-null    float64\n",
      " 51  irritability           303 non-null    float64\n",
      " 52  confusion              303 non-null    float64\n",
      " 53  tremor                 303 non-null    float64\n",
      " 54  paralysis              303 non-null    float64\n",
      " 55  lymph_swells           303 non-null    float64\n",
      " 56  breathing_restriction  303 non-null    float64\n",
      " 57  toe_inflammation       303 non-null    float64\n",
      " 58  finger_inflammation    303 non-null    float64\n",
      " 59  lips_irritation        303 non-null    float64\n",
      " 60  itchiness              303 non-null    float64\n",
      " 61  ulcers                 303 non-null    float64\n",
      " 62  toenail_loss           303 non-null    float64\n",
      " 63  speech_problem         303 non-null    float64\n",
      " 64  bullseye_rash          303 non-null    float64\n",
      "dtypes: float64(64), int64(1)\n",
      "memory usage: 154.0 KB\n"
     ]
    }
   ],
   "source": [
    "raw_test.info()"
   ]
  },
  {
   "cell_type": "markdown",
   "id": "356e6138",
   "metadata": {},
   "source": [
    "## Pre-processing"
   ]
  },
  {
   "cell_type": "code",
   "execution_count": 69,
   "id": "47d3750f",
   "metadata": {},
   "outputs": [],
   "source": [
    "from sklearn import preprocessing\n",
    "from sklearn.model_selection import train_test_split\n",
    "\n",
    "encoder = preprocessing.LabelEncoder().fit(raw_train['prognosis'])"
   ]
  },
  {
   "cell_type": "code",
   "execution_count": 70,
   "id": "1c67f2c5",
   "metadata": {},
   "outputs": [],
   "source": [
    "encoded_labels = encoder.transform(raw_train['prognosis'])"
   ]
  },
  {
   "cell_type": "code",
   "execution_count": 71,
   "id": "7c2344ea",
   "metadata": {},
   "outputs": [
    {
     "data": {
      "text/plain": [
       "707"
      ]
     },
     "execution_count": 71,
     "metadata": {},
     "output_type": "execute_result"
    }
   ],
   "source": [
    "len(encoded_labels)"
   ]
  },
  {
   "cell_type": "code",
   "execution_count": 75,
   "id": "2ab17ba5",
   "metadata": {},
   "outputs": [],
   "source": [
    "train_X = raw_train.loc[:, ~raw_train.columns.isin(['id', 'prognosis'])]\n",
    "train_y = raw_train.loc[:, raw_train.columns == 'prognosis']"
   ]
  },
  {
   "cell_type": "code",
   "execution_count": 81,
   "id": "57cbcd41",
   "metadata": {},
   "outputs": [],
   "source": [
    "X_train, X_val, y_train, y_val = train_test_split(train_X, train_y, test_size=0.33, random_state=42)"
   ]
  },
  {
   "cell_type": "markdown",
   "id": "36cca757",
   "metadata": {},
   "source": [
    "## Model building"
   ]
  },
  {
   "cell_type": "code",
   "execution_count": 82,
   "id": "1087ce24",
   "metadata": {},
   "outputs": [],
   "source": [
    "from sklearn.linear_model import LogisticRegression\n",
    "from sklearn.model_selection import GridSearchCV"
   ]
  },
  {
   "cell_type": "code",
   "execution_count": 83,
   "id": "d14fac62",
   "metadata": {},
   "outputs": [],
   "source": [
    "lr = LogisticRegression()\n",
    "parameters = { 'penalty' : ['l1','l2'],\n",
    "              'solver': ['newton-cg', 'sag', 'saga', 'lbfgs'], \n",
    "              'multi_class': ['multinomial'], 'max_iters':  }"
   ]
  },
  {
   "cell_type": "code",
   "execution_count": 7,
   "id": "53eb8095",
   "metadata": {},
   "outputs": [],
   "source": [
    "clf = GridSearchCV(lr, parameters)"
   ]
  },
  {
   "cell_type": "code",
   "execution_count": 13,
   "id": "e3bf22df",
   "metadata": {},
   "outputs": [
    {
     "data": {
      "text/plain": [
       "array(['Chikungunya', 'Dengue', 'Japanese_encephalitis', 'Lyme_disease',\n",
       "       'Malaria', 'Plague', 'Rift_Valley_fever', 'Tungiasis',\n",
       "       'West_Nile_fever', 'Yellow_Fever', 'Zika'], dtype=object)"
      ]
     },
     "execution_count": 13,
     "metadata": {},
     "output_type": "execute_result"
    }
   ],
   "source": []
  },
  {
   "cell_type": "code",
   "execution_count": 22,
   "id": "c0417534",
   "metadata": {},
   "outputs": [
    {
     "data": {
      "text/plain": [
       "id              249571\n",
       "muscle_pain      366.0\n",
       "sudden_fever     356.0\n",
       "nose_bleed       345.0\n",
       "rash             345.0\n",
       "mouth_bleed      325.0\n",
       "headache         318.0\n",
       "joint_pain       318.0\n",
       "vomiting         312.0\n",
       "diarrhea         276.0\n",
       "dtype: object"
      ]
     },
     "execution_count": 22,
     "metadata": {},
     "output_type": "execute_result"
    }
   ],
   "source": []
  },
  {
   "cell_type": "code",
   "execution_count": null,
   "id": "426556ea",
   "metadata": {},
   "outputs": [],
   "source": []
  }
 ],
 "metadata": {
  "kernelspec": {
   "display_name": "Python 3 (ipykernel)",
   "language": "python",
   "name": "python3"
  },
  "language_info": {
   "codemirror_mode": {
    "name": "ipython",
    "version": 3
   },
   "file_extension": ".py",
   "mimetype": "text/x-python",
   "name": "python",
   "nbconvert_exporter": "python",
   "pygments_lexer": "ipython3",
   "version": "3.10.8"
  }
 },
 "nbformat": 4,
 "nbformat_minor": 5
}
